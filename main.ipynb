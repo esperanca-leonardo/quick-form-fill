{
 "cells": [
  {
   "cell_type": "code",
   "execution_count": 1,
   "id": "2913c3e2",
   "metadata": {},
   "outputs": [],
   "source": [
    "import time\n",
    "import pandas as pd\n",
    "from selenium import webdriver\n",
    "from selenium.webdriver.common.by import By"
   ]
  },
  {
   "cell_type": "code",
   "execution_count": 2,
   "id": "6ca92303",
   "metadata": {},
   "outputs": [],
   "source": [
    "driver = webdriver.Chrome()\n",
    "driver.get('https://forms.gle/2qWddW8tWh6sSsRCA')\n",
    "driver.implicitly_wait(5)"
   ]
  },
  {
   "cell_type": "code",
   "execution_count": 3,
   "id": "4f4b1cc2",
   "metadata": {},
   "outputs": [],
   "source": [
    "df = pd.read_excel('data.xlsx')\n",
    "\n",
    "for indice, linha in df.iterrows(): \n",
    "    text_box = driver.find_element(by=By.XPATH, value='//*[@id=\"mG61Hd\"]/div[2]/div/div[2]/div[1]/div/div/div[2]/div/div[1]/div/div[1]/input')\n",
    "    name = df.loc[indice, 'Nome']\n",
    "    text_box.send_keys(name)\n",
    "        \n",
    "    text_box = driver.find_element(by=By.XPATH, value='//*[@id=\"mG61Hd\"]/div[2]/div/div[2]/div[2]/div/div/div[2]/div/div[1]/div/div[1]/input')\n",
    "    description = df.loc[indice, 'Descrição']\n",
    "    text_box.send_keys(description)\n",
    "    \n",
    "    text_box = driver.find_element(by=By.XPATH, value='//*[@id=\"mG61Hd\"]/div[2]/div/div[2]/div[3]/div/div/div[2]/div/div[1]/div/div[1]/input')\n",
    "    category = df.loc[indice, 'Categoria']\n",
    "    text_box.send_keys(category)\n",
    "    \n",
    "    text_box = driver.find_element(by=By.XPATH, value='//*[@id=\"mG61Hd\"]/div[2]/div/div[2]/div[4]/div/div/div[2]/div/div[1]/div/div[1]/input')\n",
    "    price = df.loc[indice, 'Preço']\n",
    "    text_box.send_keys(price)\n",
    "   \n",
    "    text_box = driver.find_element(by=By.XPATH, value='//*[@id=\"mG61Hd\"]/div[2]/div/div[2]/div[5]/div/div/div[2]/div/div[1]/div/div[1]/input')\n",
    "    amount = df.loc[indice, 'Quantidade']\n",
    "    text_box.send_keys(str(amount))\n",
    "    \n",
    "    text_box = driver.find_element(by=By.XPATH, value='//*[@id=\"mG61Hd\"]/div[2]/div/div[2]/div[6]/div/div/div[2]/div/div[1]/div/div[1]/input')\n",
    "    supplier = df.loc[indice, 'Fornecedor']\n",
    "    text_box.send_keys(supplier)\n",
    "    \n",
    "    text_box = driver.find_element(by=By.XPATH, value='//*[@id=\"mG61Hd\"]/div[2]/div/div[2]/div[7]/div/div/div[2]/div/div[1]/div/div[1]/input')\n",
    "    brand = df.loc[indice, 'Marca']\n",
    "    text_box.send_keys(brand)\n",
    "    \n",
    "    register = driver.find_element(by=By.XPATH, value='//*[@id=\"mG61Hd\"]/div[2]/div/div[3]/div[1]/div[1]/div/span/span')\n",
    "    register.click()\n",
    "    time.sleep(0.5)\n",
    "    \n",
    "    register_another_product = driver.find_element(by=By.XPATH, value='/html/body/div[1]/div[2]/div[1]/div/div[4]/a')\n",
    "    register_another_product.click()\n",
    "    time.sleep(0.5)\n",
    "    \n",
    "driver.quit()"
   ]
  }
 ],
 "metadata": {
  "kernelspec": {
   "display_name": "Python 3 (ipykernel)",
   "language": "python",
   "name": "python3"
  },
  "language_info": {
   "codemirror_mode": {
    "name": "ipython",
    "version": 3
   },
   "file_extension": ".py",
   "mimetype": "text/x-python",
   "name": "python",
   "nbconvert_exporter": "python",
   "pygments_lexer": "ipython3",
   "version": "3.11.5"
  }
 },
 "nbformat": 4,
 "nbformat_minor": 5
}
