{
 "cells": [
  {
   "cell_type": "code",
   "execution_count": 1,
   "id": "2913c3e2",
   "metadata": {},
   "outputs": [
    {
     "ename": "ModuleNotFoundError",
     "evalue": "No module named 'selenium'",
     "output_type": "error",
     "traceback": [
      "\u001b[1;31m---------------------------------------------------------------------------\u001b[0m",
      "\u001b[1;31mModuleNotFoundError\u001b[0m                       Traceback (most recent call last)",
      "Cell \u001b[1;32mIn[1], line 3\u001b[0m\n\u001b[0;32m      1\u001b[0m \u001b[38;5;28;01mimport\u001b[39;00m \u001b[38;5;21;01mtime\u001b[39;00m\n\u001b[0;32m      2\u001b[0m \u001b[38;5;28;01mimport\u001b[39;00m \u001b[38;5;21;01mpandas\u001b[39;00m \u001b[38;5;28;01mas\u001b[39;00m \u001b[38;5;21;01mpd\u001b[39;00m\n\u001b[1;32m----> 3\u001b[0m \u001b[38;5;28;01mfrom\u001b[39;00m \u001b[38;5;21;01mselenium\u001b[39;00m \u001b[38;5;28;01mimport\u001b[39;00m webdriver\n\u001b[0;32m      4\u001b[0m \u001b[38;5;28;01mfrom\u001b[39;00m \u001b[38;5;21;01mselenium\u001b[39;00m\u001b[38;5;21;01m.\u001b[39;00m\u001b[38;5;21;01mwebdriver\u001b[39;00m\u001b[38;5;21;01m.\u001b[39;00m\u001b[38;5;21;01mcommon\u001b[39;00m\u001b[38;5;21;01m.\u001b[39;00m\u001b[38;5;21;01mby\u001b[39;00m \u001b[38;5;28;01mimport\u001b[39;00m By\n",
      "\u001b[1;31mModuleNotFoundError\u001b[0m: No module named 'selenium'"
     ]
    }
   ],
   "source": [
    "import time\n",
    "import pandas as pd\n",
    "from selenium import webdriver\n",
    "from selenium.webdriver.common.by import By"
   ]
  },
  {
   "cell_type": "code",
   "execution_count": null,
   "id": "6ca92303",
   "metadata": {},
   "outputs": [],
   "source": [
    "driver = webdriver.Chrome()\n",
    "driver.get('http://localhost:3000/')\n",
    "driver.implicitly_wait(5)"
   ]
  },
  {
   "cell_type": "code",
   "execution_count": null,
   "id": "4f4b1cc2",
   "metadata": {},
   "outputs": [],
   "source": [
    "df = pd.read_excel('data.xlsx')\n",
    "\n",
    "products = driver.find_element(by=By.XPATH, value='//*[@id=\"navbarSupportedContent\"]/ul/li[2]/a')\n",
    "products.click()\n",
    "time.sleep(0.5)\n",
    "\n",
    "for indice, linha in df.iterrows(): \n",
    "    create = driver.find_element(by=By.XPATH, value='//*[@id=\"root\"]/div/button[1]')\n",
    "    create.click()\n",
    "    time.sleep(0.5)\n",
    "\n",
    "    text_box = driver.find_element(by=By.XPATH, value='//*[@id=\"root\"]/div/div/div/form/div[1]/div/input')\n",
    "    name = df.loc[indice, 'Nome']\n",
    "    text_box.send_keys(name)\n",
    "        \n",
    "    text_box = driver.find_element(by=By.XPATH, value='//*[@id=\"root\"]/div/div/div/form/div[2]/div/input')\n",
    "    description = df.loc[indice, 'Descrição']\n",
    "    text_box.send_keys(description)\n",
    "    \n",
    "    text_box = driver.find_element(by=By.XPATH, value='//*[@id=\"root\"]/div/div/div/form/div[3]/div/input')\n",
    "    category = df.loc[indice, 'Categoria']\n",
    "    text_box.send_keys(category)\n",
    "    \n",
    "    text_box = driver.find_element(by=By.XPATH, value='//*[@id=\"root\"]/div/div/div/form/div[4]/div/input')\n",
    "    price = df.loc[indice, 'Preço']\n",
    "    price = price.replace('R$', '')\n",
    "    price = price.replace(',', '.')\n",
    "    text_box.send_keys(price)\n",
    "   \n",
    "    text_box = driver.find_element(by=By.XPATH, value='//*[@id=\"root\"]/div/div/div/form/div[5]/div/input')\n",
    "    amount = df.loc[indice, 'Quantidade']\n",
    "    text_box.send_keys(str(amount))\n",
    "    \n",
    "    text_box = driver.find_element(by=By.XPATH, value='//*[@id=\"root\"]/div/div/div/form/div[6]/div/input')\n",
    "    supplier = df.loc[indice, 'Fornecedor']\n",
    "    text_box.send_keys(supplier)\n",
    "    \n",
    "    text_box = driver.find_element(by=By.XPATH, value='//*[@id=\"root\"]/div/div/div/form/div[7]/div/input')\n",
    "    brand = df.loc[indice, 'Marca']\n",
    "    text_box.send_keys(brand)\n",
    "    \n",
    "    save = driver.find_element(by=By.XPATH, value='//*[@id=\"root\"]/div/div/div/form/div[8]/div[1]/button')\n",
    "    save.click()\n",
    "    time.sleep(0.5)\n",
    "    \n",
    "driver.quit()"
   ]
  }
 ],
 "metadata": {
  "kernelspec": {
   "display_name": "Python 3 (ipykernel)",
   "language": "python",
   "name": "python3"
  },
  "language_info": {
   "codemirror_mode": {
    "name": "ipython",
    "version": 3
   },
   "file_extension": ".py",
   "mimetype": "text/x-python",
   "name": "python",
   "nbconvert_exporter": "python",
   "pygments_lexer": "ipython3",
   "version": "3.12.3"
  }
 },
 "nbformat": 4,
 "nbformat_minor": 5
}
